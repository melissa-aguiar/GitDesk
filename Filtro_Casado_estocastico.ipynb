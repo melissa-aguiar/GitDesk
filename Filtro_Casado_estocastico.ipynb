{
  "nbformat": 4,
  "nbformat_minor": 0,
  "metadata": {
    "colab": {
      "name": "Filtro_Casado_estocastico.ipynb",
      "provenance": [],
      "toc_visible": true,
      "include_colab_link": true
    },
    "kernelspec": {
      "name": "python3",
      "display_name": "Python 3"
    }
  },
  "cells": [
    {
      "cell_type": "markdown",
      "metadata": {
        "id": "view-in-github",
        "colab_type": "text"
      },
      "source": [
        "<a href=\"https://colab.research.google.com/github/melissa-aguiar/GitDesk/blob/master/Filtro_Casado_estocastico.ipynb\" target=\"_parent\"><img src=\"https://colab.research.google.com/assets/colab-badge.svg\" alt=\"Open In Colab\"/></a>"
      ]
    },
    {
      "cell_type": "markdown",
      "metadata": {
        "id": "TM_cAGbIWCZf"
      },
      "source": [
        "Filtro Casado Estocastivo: \n",
        "\n",
        "- data: 19 de Março de 2021\n"
      ]
    },
    {
      "cell_type": "markdown",
      "metadata": {
        "id": "AbToK-uFaX2F"
      },
      "source": [
        "# Importando bibliotecas e carregando arquivos\n"
      ]
    },
    {
      "cell_type": "markdown",
      "metadata": {
        "id": "WC9STk6mm1f8"
      },
      "source": [
        "**Passo 1:** Importando as bibliotecas do python:"
      ]
    },
    {
      "cell_type": "code",
      "metadata": {
        "id": "UnUoyBfkm6X-",
        "colab": {
          "base_uri": "https://localhost:8080/"
        },
        "outputId": "4cc0fc58-175f-4d4f-dc8c-232e2f1ea7d9"
      },
      "source": [
        "%tensorflow_version 2.x  # this line is not required unless you are in a notebook\n",
        "#TensorFlow and tf.keras\n",
        "import tensorflow as tf\n",
        "from tensorflow import keras\n",
        "from sklearn.model_selection import train_test_split\n",
        "import random\n",
        "import csv\n",
        "\n",
        "# Helper libraries\n",
        "import os\n",
        "import numpy as np\n",
        "from sklearn.model_selection import KFold\n",
        "import pandas as pd\n",
        "import matplotlib.pyplot as plt\n",
        "import seaborn as sns\n",
        "import sklearn.metrics as metrics\n",
        "import seaborn as sn"
      ],
      "execution_count": 1,
      "outputs": [
        {
          "output_type": "stream",
          "text": [
            "`%tensorflow_version` only switches the major version: 1.x or 2.x.\n",
            "You set: `2.x  # this line is not required unless you are in a notebook`. This will be interpreted as: `2.x`.\n",
            "\n",
            "\n",
            "TensorFlow 2.x selected.\n"
          ],
          "name": "stdout"
        }
      ]
    },
    {
      "cell_type": "markdown",
      "metadata": {
        "id": "a97VjKYQnCMh"
      },
      "source": [
        "**Passo 2:** Importando o google drive para o google colab:"
      ]
    },
    {
      "cell_type": "code",
      "metadata": {
        "id": "-CmsIsP5nG8m",
        "colab": {
          "base_uri": "https://localhost:8080/"
        },
        "outputId": "2ed4f12f-9c8c-4f74-c33a-eaf17de99cb2"
      },
      "source": [
        "from google.colab import drive\n",
        "drive.mount('/content/drive')"
      ],
      "execution_count": 2,
      "outputs": [
        {
          "output_type": "stream",
          "text": [
            "Mounted at /content/drive\n"
          ],
          "name": "stdout"
        }
      ]
    },
    {
      "cell_type": "markdown",
      "metadata": {
        "id": "0p1dHpbznUmU"
      },
      "source": [
        "**Passo 3:** Carregando o arquivo de dados:"
      ]
    },
    {
      "cell_type": "code",
      "metadata": {
        "id": "8aTcRIJinVlN"
      },
      "source": [
        "smpsinal =np.load('/content/drive/MyDrive/Filtro_casado_estocastico/SmpSinal.npy')\n",
        "smpruido =np.load('/content/drive/MyDrive/Filtro_casado_estocastico/SmpRuido.npy')\n",
        "EneStile=np.load('/content/drive/MyDrive/Filtro_casado_estocastico/TileModSinal.npy')\n",
        "EneRtile=np.load('/content/drive/MyDrive/Filtro_casado_estocastico/TileModRuido.npy')\n",
        "EneStmdb_ch=np.load('/content/drive/MyDrive/Filtro_casado_estocastico/TMDBSinalCh.npy')\n",
        "EneRtmdb_ch=np.load('/content/drive/MyDrive/Filtro_casado_estocastico/TMDBRuidoCh.npy')"
      ],
      "execution_count": null,
      "outputs": []
    },
    {
      "cell_type": "markdown",
      "metadata": {
        "id": "0avPJ3cfXPo1"
      },
      "source": [
        "# Formato do conjunto de dados"
      ]
    },
    {
      "cell_type": "code",
      "metadata": {
        "id": "rTVU4xGxXSdt"
      },
      "source": [
        "# [Lado][Modulo][Canal][Amostra][Pulso]\n",
        "for i in range(7):\n",
        "  print(smpsinal[0][0][0][i][0])  # equivale ao L0C0M0\n",
        "\n",
        "for i in range(7):\n",
        "  print(smpruido[0][0][0][i][0])  # equivale ao noiseL0C0M0\n",
        "\n",
        "\n",
        "# [Lado][Modulo][Canal][Pulso]\n",
        "for i in range(4):\n",
        "  print(EneStmdb_ch[0][0][i][0])  # equivale ao muonMa1\n",
        "\n",
        "for i in range(4):\n",
        "  print(EneRtmdb_ch[0][0][i][0])  # equivale ao noiseMa1"
      ],
      "execution_count": null,
      "outputs": []
    },
    {
      "cell_type": "markdown",
      "metadata": {
        "id": "OCg6PesyeMVl"
      },
      "source": [
        "# ROC Filtro Casado"
      ]
    },
    {
      "cell_type": "markdown",
      "metadata": {
        "id": "Xxb2iBT7nFw1"
      },
      "source": [
        "Gerando os sinais antes do plot"
      ]
    },
    {
      "cell_type": "code",
      "metadata": {
        "id": "pDc6NFLknFAG"
      },
      "source": [
        "FcSinal = []\n",
        "FcRuido = []\n",
        "\n",
        "for j in range(50385):\n",
        "  FcSinal.append(EneStmdb_ch[0][0][0][j] + EneStmdb_ch[0][0][1][j] + EneStmdb_ch[0][0][2][j] + EneStmdb_ch[0][0][3][j])\n",
        "  FcRuido.append(EneRtmdb_ch[0][0][0][j] + EneRtmdb_ch[0][0][1][j] + EneRtmdb_ch[0][0][2][j] + EneRtmdb_ch[0][0][3][j])"
      ],
      "execution_count": null,
      "outputs": []
    },
    {
      "cell_type": "markdown",
      "metadata": {
        "id": "hQuMgSUdnqmm"
      },
      "source": [
        "Parâmetros e cálculos"
      ]
    },
    {
      "cell_type": "code",
      "metadata": {
        "id": "o9G8EuW2eP00"
      },
      "source": [
        "pmin = min(FcSinal)\n",
        "pmax = max(FcSinal)\n",
        "pontos = 1000\n",
        "\n",
        "psoma = (pmax+abs(pmin))/pontos\n",
        "patamar = pmin\n",
        "PD = []\n",
        "FA = []\n",
        "pd = 0\n",
        "fa = 0\n",
        "\n",
        "for i in range(pontos):\n",
        "  for j in range(len(FcRuido)):\n",
        "    if FcSinal[j] > patamar:\n",
        "      pd = pd + 1\n",
        "    if FcRuido[j] > patamar:\n",
        "      fa = fa + 1\n",
        "  \n",
        "  pd = pd*100/len(FcSinal)\n",
        "  fa = fa*100/len(FcRuido)\n",
        "  PD.append(pd)\n",
        "  FA.append(fa)\n",
        "  pd = 0\n",
        "  fa = 0\n",
        "  patamar = patamar + psoma"
      ],
      "execution_count": null,
      "outputs": []
    },
    {
      "cell_type": "markdown",
      "metadata": {
        "id": "BL0FER4pnwCG"
      },
      "source": [
        "Plotando a curva"
      ]
    },
    {
      "cell_type": "code",
      "metadata": {
        "colab": {
          "base_uri": "https://localhost:8080/"
        },
        "id": "1ozWbgxLnyG9",
        "outputId": "542d7b90-a3a6-45da-f4e2-34f33fd7756b"
      },
      "source": [
        "plt.style.use(\"ggplot\")\n",
        "plt.figure(figsize = (14, 6))\n",
        "plt.plot(FA, PD)\n",
        "plt.title(\"Curva ROC - Filtro Casado\")\n",
        "plt.xlabel(\"Falso Alarme\")\n",
        "plt.ylabel(\"Probabilidade de Detecção\")\n"
      ],
      "execution_count": null,
      "outputs": [
        {
          "output_type": "execute_result",
          "data": {
            "text/plain": [
              "Text(0, 0.5, 'Probabilidade de Detecção')"
            ]
          },
          "metadata": {
            "tags": []
          },
          "execution_count": 7
        },
        {
          "output_type": "display_data",
          "data": {
            "image/png": "[encoded data removed]",
            "text/plain": [
              "<Figure size 1008x432 with 1 Axes>"
            ]
          },
          "metadata": {
            "tags": []
          }
        }
      ]
    },
    {
      "cell_type": "markdown",
      "metadata": {
        "id": "HKWnFdjopHfm"
      },
      "source": [
        "#Filtro Casado Estocástico"
      ]
    },
    {
      "cell_type": "markdown",
      "metadata": {
        "id": "7Ie_CNhdpLfe"
      },
      "source": [
        "##Calculando o pedestal para cada canal"
      ]
    },
    {
      "cell_type": "code",
      "metadata": {
        "id": "aodHFxI4pNUl"
      },
      "source": [
        "ped0 = 0\n",
        "ped1 = 0\n",
        "ped2 = 0\n",
        "ped3 = 0\n",
        "\n",
        "for i in range(50385):\n",
        "  ped0 = ped0 + smpruido[0][0][0][4][i]\n",
        "  ped1 = ped1 + smpruido[0][0][1][4][i]\n",
        "  ped2 = ped2 + smpruido[0][0][2][4][i]\n",
        "  ped3 = ped3 + smpruido[0][0][3][4][i]\n",
        "\n",
        "ped0 = ped0/50385\n",
        "ped1 = ped1/50385\n",
        "ped2 = ped2/50385\n",
        "ped3 = ped3/50385\n"
      ],
      "execution_count": null,
      "outputs": []
    },
    {
      "cell_type": "markdown",
      "metadata": {
        "id": "YoX0DpogqzrO"
      },
      "source": [
        "##Separando os dados de ruído por canal"
      ]
    },
    {
      "cell_type": "code",
      "metadata": {
        "id": "OR1rJPuRq4nV"
      },
      "source": [
        "ruido0 = []\n",
        "for j in range(50385):\n",
        "  aux = []\n",
        "  for i in range(7):\n",
        "    aux.append(smpruido[0][0][0][i][j])\n",
        "  ruido0.append(aux)\n",
        "\n",
        "ruido1 = []\n",
        "for j in range(50385):\n",
        "  aux = []\n",
        "  for i in range(7):\n",
        "    aux.append(smpruido[0][0][1][i][j])\n",
        "  ruido1.append(aux)\n",
        "\n",
        "ruido2 = []\n",
        "for j in range(50385):\n",
        "  aux = []\n",
        "  for i in range(7):\n",
        "    aux.append(smpruido[0][0][2][i][j])\n",
        "  ruido2.append(aux)\n",
        "\n",
        "ruido3 = []\n",
        "for j in range(50385):\n",
        "  aux = []\n",
        "  for i in range(7):\n",
        "    aux.append(smpruido[0][0][3][i][j])\n",
        "  ruido3.append(aux)\n"
      ],
      "execution_count": null,
      "outputs": []
    },
    {
      "cell_type": "markdown",
      "metadata": {
        "id": "DT4lRbphvkZX"
      },
      "source": [
        "##Separando os dados de sinal por canal"
      ]
    },
    {
      "cell_type": "code",
      "metadata": {
        "id": "EHPvSpTwvmuW"
      },
      "source": [
        "sinal0 = []\n",
        "for j in range(50385):\n",
        "  aux = []\n",
        "  for i in range(7):\n",
        "    aux.append(smpsinal[0][0][0][i][j])\n",
        "  sinal0.append(aux)\n",
        "\n",
        "sinal1 = []\n",
        "for j in range(50385):\n",
        "  aux = []\n",
        "  for i in range(7):\n",
        "    aux.append(smpsinal[0][0][1][i][j])\n",
        "  sinal1.append(aux)\n",
        "\n",
        "sinal2 = []\n",
        "for j in range(50385):\n",
        "  aux = []\n",
        "  for i in range(7):\n",
        "    aux.append(smpsinal[0][0][2][i][j])\n",
        "  sinal2.append(aux)\n",
        "\n",
        "sinal3 = []\n",
        "for j in range(50385):\n",
        "  aux = []\n",
        "  for i in range(7):\n",
        "    aux.append(smpsinal[0][0][3][i][j])\n",
        "  sinal3.append(aux)\n"
      ],
      "execution_count": null,
      "outputs": []
    },
    {
      "cell_type": "markdown",
      "metadata": {
        "id": "gZCiQ4ghvm_G"
      },
      "source": [
        "##Separando o conjunto de dados para treino (80%) e para teste (20%)"
      ]
    },
    {
      "cell_type": "code",
      "metadata": {
        "id": "ZtgjXIHevsg3"
      },
      "source": [
        "ruidoDes0 = ruido0[0:40307][:]\n",
        "ruidoTes0 = ruido0[40308:50385][:]\n",
        "sinalDes0 = sinal0[0:40307][:]\n",
        "sinalTes0 = sinal0[40308:50385][:]\n",
        "\n",
        "ruidoDes1 = ruido1[0:40307][:]\n",
        "ruidoTes1 = ruido1[40308:50385][:]\n",
        "sinalDes1 = sinal1[0:40307][:]\n",
        "sinalTes1 = sinal1[40308:50385][:]\n",
        "\n",
        "ruidoDes2 = ruido2[0:40307][:]\n",
        "ruidoTes2 = ruido2[40308:50385][:]\n",
        "sinalDes2 = sinal2[0:40307][:]\n",
        "sinalTes2 = sinal2[40308:50385][:]\n",
        "\n",
        "ruidoDes3 = ruido3[0:40307][:]\n",
        "ruidoTes3 = ruido3[40308:50385][:]\n",
        "sinalDes3 = sinal3[0:40307][:]\n",
        "sinalTes3 = sinal3[40308:50385][:]\n"
      ],
      "execution_count": null,
      "outputs": []
    },
    {
      "cell_type": "markdown",
      "metadata": {
        "id": "YsNbZUI52P0I"
      },
      "source": [
        "##Retirando o pedestal do conjunto de dados de treino e de teste"
      ]
    },
    {
      "cell_type": "code",
      "metadata": {
        "id": "4qA7IVdX2T4X"
      },
      "source": [
        "ruidoDes0 = ruidoDes0 - ped0\n",
        "ruidoTes0 = ruidoTes0 - ped0\n",
        "sinalDes0 = sinalDes0 - ped0\n",
        "sinalTes0 = sinalTes0 - ped0\n",
        "\n",
        "ruidoDes1 = ruidoDes1 - ped1\n",
        "ruidoTes1 = ruidoTes1 - ped1\n",
        "sinalDes1 = sinalDes1 - ped1\n",
        "sinalTes1 = sinalTes1 - ped1\n",
        "\n",
        "ruidoDes2 = ruidoDes2 - ped2\n",
        "ruidoTes2 = ruidoTes2 - ped2\n",
        "sinalDes2 = sinalDes2 - ped2\n",
        "sinalTes2 = sinalTes2 - ped2\n",
        "\n",
        "ruidoDes3 = ruidoDes3 - ped3\n",
        "ruidoTes3 = ruidoTes3 - ped3\n",
        "sinalDes3 = sinalDes3 - ped3\n",
        "sinalTes3 = sinalTes3 - ped3"
      ],
      "execution_count": null,
      "outputs": []
    },
    {
      "cell_type": "markdown",
      "metadata": {
        "id": "4-Hlu4Ju5EDn"
      },
      "source": [
        "##Separando o conjunto de dados de treino e de teste por módulo"
      ]
    },
    {
      "cell_type": "code",
      "metadata": {
        "id": "306uI9i828bP"
      },
      "source": [
        "ruidoDes = ruidoDes0 + ruidoDes1 + ruidoDes2 + ruidoDes3\n",
        "ruidoTes = ruidoTes0 + ruidoTes1 + ruidoTes2 + ruidoTes3\n",
        "sinalDes = sinalDes0 + sinalDes1 + sinalDes2 + sinalDes3\n",
        "sinalTes = sinalTes0 + sinalTes1 + sinalTes2 + sinalTes3\n"
      ],
      "execution_count": null,
      "outputs": []
    },
    {
      "cell_type": "markdown",
      "metadata": {
        "id": "_gyiQP8p5TEn"
      },
      "source": [
        "##Branqueamento"
      ]
    },
    {
      "cell_type": "code",
      "metadata": {
        "id": "WzpGC1iA5VBf"
      },
      "source": [
        "c = np.cov(ruidoDes, bias=True)\n",
        "#sn.heatmap(covMatrix, annot=True, fmt='g')\n",
        "#plt.show()"
      ],
      "execution_count": null,
      "outputs": []
    }
  ]
}